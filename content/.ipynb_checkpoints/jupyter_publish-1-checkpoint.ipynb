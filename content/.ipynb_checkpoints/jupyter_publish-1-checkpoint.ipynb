{
 "cells": [
  {
   "cell_type": "markdown",
   "metadata": {},
   "source": [
    "# 1 - Introduction to JupyterLab\n",
    "\n",
    "\n",
    "## What is Jupyterlab?\n",
    "\n",
    "[JupyterLab](https://jupyterlab.readthedocs.io/en/stable/getting_started/overview.html) is the next-generation web-based user interface for [Project Jupyter](https://jupyter.org/). It is made of modular building blocks:\n",
    "\n",
    "- File explorer\n",
    "- Text editor\n",
    "- Diagram generator\n",
    "- jupyter notebooks supporting more than 50 different Jupyter kernels\n",
    "- Terminals\n",
    "- Outputs\n",
    "\n",
    "with an easy integration with Jupyterlab extension such as [jupyterlab-latex](https://github.com/jupyterlab/jupyterlab-latex) for live-editing of LaTeX documents, [jupyterlab-git](https://github.com/jupyterlab/jupyterlab-git) and [jupyterlab-nbdime](https://nbdime.readthedocs.io/en/latest/extensions.html) for git integration or [jupyterlab-drawio](https://github.com/QuantStack/jupyterlab-drawio) for creating diagrams.\n",
    "\n",
    "![JupyterLab ecosystem](images/jupyter_ecosystem.png)\n",
    "\n",
    "See [JupyterLab slides](https://github.com/jupyterlab/jupyterlab-demo/blob/master/slides/jupyterlab-slides.pdf) from [JupyterLab Github demo repository](https://github.com/jupyterlab/jupyterlab-demo) for more information about JupyterLab. \n",
    "\n"
   ]
  },
  {
   "cell_type": "markdown",
   "metadata": {},
   "source": [
    "## Get familiar with Jupyterlab\n",
    "\n",
    "\n",
    "Make sure you have followed [setup instructions](setup.ipynb) and start jupyterlab:\n",
    "\n",
    "![JupyterLab interface](images/jupyterlab.png)\n",
    "\n",
    "You can also run the [JupyterLab demo](https://github.com/jupyterlab/jupyterlab-demo) with [Binder](https://mybinder.org/v2/gh/jupyterlab/jupyterlab-demo/master?urlpath=lab/tree/demo/Lorenz.ipynb)."
   ]
  },
  {
   "cell_type": "code",
   "execution_count": null,
   "metadata": {},
   "outputs": [],
   "source": []
  }
 ],
 "metadata": {
  "kernelspec": {
   "display_name": "Python 3",
   "language": "python",
   "name": "python3"
  },
  "language_info": {
   "codemirror_mode": {
    "name": "ipython",
    "version": 3
   },
   "file_extension": ".py",
   "mimetype": "text/x-python",
   "name": "python",
   "nbconvert_exporter": "python",
   "pygments_lexer": "ipython3",
   "version": "3.6.7"
  }
 },
 "nbformat": 4,
 "nbformat_minor": 2
}
