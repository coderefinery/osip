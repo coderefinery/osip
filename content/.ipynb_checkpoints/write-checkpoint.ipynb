{
 "cells": [
  {
   "cell_type": "markdown",
   "metadata": {},
   "source": [
    "---\n",
    "layout: episode\n",
    "\n",
    "teaching: 20\n",
    "\n",
    "exercises: 25\n",
    "\n",
    "questions:\n",
    "  - \"How can generate outputs in different formats?\"\n",
    "  - \"What tools can I use?\"\n",
    "objectives:\n",
    "  - \"Learn to about nbconvert, jupyter-book\"\n",
    "keypoints:\n",
    "  - \"Generate different documents from a set of notebooks.\"\n",
    "---\n"
   ]
  },
  {
   "cell_type": "markdown",
   "metadata": {},
   "source": [
    "# Markdown\n"
   ]
  },
  {
   "cell_type": "markdown",
   "metadata": {},
   "source": [
    "# Jupyter book\n",
    "\n",
    "```bash\n",
    "pip install jupyter-book\n",
    "```"
   ]
  },
  {
   "cell_type": "markdown",
   "metadata": {},
   "source": [
    "# Presentations\n"
   ]
  },
  {
   "cell_type": "markdown",
   "metadata": {},
   "source": [
    "# Publication ready scientific reports\n"
   ]
  },
  {
   "cell_type": "code",
   "execution_count": null,
   "metadata": {},
   "outputs": [],
   "source": []
  }
 ],
 "metadata": {
  "kernelspec": {
   "display_name": "Python 3",
   "language": "python",
   "name": "python3"
  },
  "language_info": {
   "codemirror_mode": {
    "name": "ipython",
    "version": 3
   },
   "file_extension": ".py",
   "mimetype": "text/x-python",
   "name": "python",
   "nbconvert_exporter": "python",
   "pygments_lexer": "ipython3",
   "version": "3.7.3"
  }
 },
 "nbformat": 4,
 "nbformat_minor": 4
}
