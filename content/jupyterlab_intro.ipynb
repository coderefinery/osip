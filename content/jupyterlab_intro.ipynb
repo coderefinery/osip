{
 "cells": [
  {
   "cell_type": "markdown",
   "metadata": {},
   "source": [
    "---\n",
    "layout: episode\n",
    "\n",
    "title: \"JupyterLab as a framework for Open Science by Default\"\n",
    "\n",
    "teaching: 20\n",
    "\n",
    "exercises: 25\n",
    "\n",
    "questions:\n",
    "  - \"How can we use JupyterLab for Open Science by default?\"\n",
    "  - \"What are JupyterLab extensions?\"\n",
    "  - \"How can we extend JupyterLab?\"\n",
    "objectives:\n",
    "  - \"Learn to use JupyterLab for Open Science\"\n",
    "  - \"Learn where to find JupyterLab extension\"\n",
    "  - \"Learn how to create new JupyterLab extension\"\n",
    "keypoints:\n",
    "  - \"JupyterLab as a tool for all phases of research process.\"\n",
    "---\n"
   ]
  },
  {
   "cell_type": "markdown",
   "metadata": {},
   "source": [
    " 1 - Introduction to JupyterLab\n",
    "\n",
    "\n",
    "## What is Jupyterlab?\n",
    "\n",
    "[JupyterLab](https://jupyterlab.readthedocs.io/en/stable/getting_started/overview.html) is the next-generation web-based user interface for [Project Jupyter](https://jupyter.org/). It is made of modular building blocks:\n",
    "\n",
    "- File explorer\n",
    "- Text editor\n",
    "- Diagram generator\n",
    "- jupyter notebooks supporting more than 50 different Jupyter kernels\n",
    "- Terminals\n",
    "- Outputs\n",
    "\n",
    "with an easy integration with Jupyterlab extension such as [jupyterlab-latex](https://github.com/jupyterlab/jupyterlab-latex) for live-editing of LaTeX documents, [jupyterlab-git](https://github.com/jupyterlab/jupyterlab-git) and [jupyterlab-nbdime](https://nbdime.readthedocs.io/en/latest/extensions.html) for git integration, [jupyterlab-drawio](https://github.com/QuantStack/jupyterlab-drawio) for creating diagrams and [jupyterlab-zenodo](https://pypi.org/project/jupyterlab-zenodo/) to easily publish research work and get proper [DOI](https://www.doi.org/).\n",
    "\n",
    "![JupyterLab ecosystem](images/jupyter_ecosystem.png)\n",
    "\n",
    "See [JupyterLab slides](https://github.com/jupyterlab/jupyterlab-demo/blob/master/slides/jupyterlab-slides.pdf) from [JupyterLab Github demo repository](https://github.com/jupyterlab/jupyterlab-demo) for more information about JupyterLab. \n"
   ]
  },
  {
   "cell_type": "markdown",
   "metadata": {},
   "source": [
    "## Get familiar with Jupyterlab\n",
    "\n",
    "\n",
    "Make sure you have JupyterLab installed and start it:\n",
    "\n",
    "![JupyterLab interface](images/jupyterlab.png)\n",
    "\n",
    "You can also run the [JupyterLab demo](https://github.com/jupyterlab/jupyterlab-demo) with [Binder](https://mybinder.org/v2/gh/jupyterlab/jupyterlab-demo/master?urlpath=lab/tree/demo/Lorenz.ipynb)."
   ]
  },
  {
   "cell_type": "markdown",
   "metadata": {},
   "source": [
    "## JupyterLab extensions\n",
    "\n",
    "The JupyterLab Graphical User Interface varies depending on the available kernels (`python`, `R`, `julia`, etc.) but also on the [JupyterLab extensions](https://jupyterlab.readthedocs.io/en/stable/user/extensions.html) you have installed.\n",
    "And this is where JupyterLab differs from the \"classical\" Jupyter Notebooks.\n",
    "\n",
    "> ## JupyterLab extension Manager\n",
    ">\n",
    "> Enable **Extension Manager**\n",
    "> <img src=\"https://jupyterlab.readthedocs.io/en/stable/_images/extension_manager_enable_manager.png\" />\n",
    "> **Figure:** The default view has three components: a search bar, an \"Installed\" section, and a \"Discover\" section.\n",
    ">\n",
    "{: .task}\n",
    "\n",
    "Once enabled, you can see the list of extensions installed and update/uninstall/disable them. With **SEARCH**, you can find and install available extensions.\n",
    "\n",
    "![JupyterLab interface](images/jupyterlab_extension_manager.png)\n",
    "\n",
    "> ## Warning\n",
    "> JupyterLab extensions make JupyterLab highly flexible and can really offer a fully customized user environment but \n",
    "> the following recommendations are **important**:\n",
    "> - only install extensions you can trust (as it allows to execute arbitrary code on the server, kernel, and in the client’s browser)\n",
    "> - some extensions may not be compatible with some versions of JupyterLab and may break it (as extensions are developed independently of JupyterLab).\n",
    ">\n",
    "{: .callout}\n",
    "\n",
    "> ## Exercise\n",
    "> Install a few extensions such as:\n",
    "> - [jupyterlab-latex](https://github.com/jupyterlab/jupyterlab-latex) for live-editing of LaTeX documents, \n",
    "> - [jupyterlab-git](https://github.com/jupyterlab/jupyterlab-git) and [jupyterlab-nbdime](https://nbdime.readthedocs.io/en/latest/extensions.html) for git integration, \n",
    "> - [jupyterlab-zenodo](https://pypi.org/project/jupyterlab-zenodo/) to easily publish research work and get proper [DOI](https://www.doi.org/).\n",
    ">\n",
    "> > ## Solution\n",
    "> > - Click on **DISCOVER** or type a word in **SEARCH** to find the corresponding extension \n",
    "> > - then click on **Install** to install and enable it. During the process, you may get a message such as *A build is needed to include the latest changes*: click on **Rebuild** to continue. At the end of the process, you will be asked to **Reload** the page which is the last step of the installation process.\n",
    "> {: .solution}\n",
    "{: .task}"
   ]
  },
  {
   "cell_type": "markdown",
   "metadata": {},
   "source": [
    "Finally, as you probably already guessed, JupyterLab extensions can be developed independently of JupyterLab itself and anyone can create and distribute new extensions. You can find a step by step tutorial on [how to create a new extension](https://jupyterlab.readthedocs.io/en/stable/developer/extension_tutorial.html). However, before starting any new development, make sure you find out whether this extension already exist or not."
   ]
  },
  {
   "cell_type": "code",
   "execution_count": null,
   "metadata": {},
   "outputs": [],
   "source": []
  }
 ],
 "metadata": {
  "kernelspec": {
   "display_name": "Python 3",
   "language": "python",
   "name": "python3"
  },
  "language_info": {
   "codemirror_mode": {
    "name": "ipython",
    "version": 3
   },
   "file_extension": ".py",
   "mimetype": "text/x-python",
   "name": "python",
   "nbconvert_exporter": "python",
   "pygments_lexer": "ipython3",
   "version": "3.7.3"
  }
 },
 "nbformat": 4,
 "nbformat_minor": 4
}
